{
 "nbformat": 4,
 "nbformat_minor": 2,
 "metadata": {
  "language_info": {
   "name": "python",
   "codemirror_mode": {
    "name": "ipython",
    "version": 3
   },
   "version": "3.7.7-final"
  },
  "orig_nbformat": 2,
  "file_extension": ".py",
  "mimetype": "text/x-python",
  "name": "python",
  "npconvert_exporter": "python",
  "pygments_lexer": "ipython3",
  "version": 3,
  "kernelspec": {
   "name": "python37264bit2a9d5d5b65bb4d2487d7abf1b1dd5884",
   "display_name": "Python 3.7.2 64-bit"
  }
 },
 "cells": [
  {
   "cell_type": "markdown",
   "metadata": {},
   "source": [
    "# builelibの実行例"
   ]
  },
  {
   "cell_type": "code",
   "execution_count": null,
   "metadata": {},
   "outputs": [],
   "source": [
    "# パスの追加\n",
    "import sys \n",
    "sys.path.append(\"./builelib/\")\n",
    "\n",
    "from builelib.make_inputdata import make_jsondata_from_Ver2_sheet\n",
    "from builelib import airconditioning, ventilation, lighting, hotwatersupply, elevetor\n",
    "from builelib import shading\n",
    "\n",
    "import pprint as pp\n",
    "import matplotlib.pyplot as plt\n",
    "%matplotlib inline"
   ]
  },
  {
   "cell_type": "markdown",
   "metadata": {},
   "source": [
    "## 0. 入力データの生成"
   ]
  },
  {
   "cell_type": "markdown",
   "metadata": {},
   "source": [
    "サンプルファイルのダウンロード\n",
    "[sample01_WEBPRO_inputSheet_for_Ver2.5.xlsm]\n",
    "(https://www.kenken.go.jp/becc/documents/building/Sample/sample01_WEBPRO_inputSheet_for_Ver2.8_%E5%9C%B0%E5%9F%9F%E5%8C%BA%E5%88%86%E8%BF%BD%E5%8A%A0.zip)"
   ]
  },
  {
   "cell_type": "code",
   "execution_count": null,
   "metadata": {
    "tags": []
   },
   "outputs": [],
   "source": [
    "# 入力ファイル指定\n",
    "inputfileName = 'sample01_WEBPRO_inputSheet_for_Ver2.5.xlsm'\n",
    "\n",
    "# 入力ファイルの読み込み\n",
    "inputdata = make_jsondata_from_Ver2_sheet(inputfileName)\n",
    "\n",
    "# バリデーション\n",
    "# bc.inputdata_validation(inputdata)\n",
    "\n",
    "# 出力\n",
    "# pp.pprint(inputdata)"
   ]
  },
  {
   "cell_type": "markdown",
   "metadata": {},
   "source": [
    "## 1. 空気調和設備の計算"
   ]
  },
  {
   "cell_type": "code",
   "execution_count": null,
   "metadata": {
    "tags": []
   },
   "outputs": [],
   "source": [
    "# 計算実行\n",
    "resultJson_airconditioning = airconditioning.calc_energy(inputdata, DEBUG = False)\n",
    "\n",
    "# 計算結果の出力\n",
    "print(resultJson_airconditioning[\"airconditioning\"])"
   ]
  },
  {
   "cell_type": "markdown",
   "metadata": {},
   "source": [
    "## 2.機械換気設備の計算"
   ]
  },
  {
   "cell_type": "code",
   "execution_count": null,
   "metadata": {
    "tags": []
   },
   "outputs": [],
   "source": [
    "# 計算実行\n",
    "resultJson_ventilation = ventilation.calc_energy(inputdata, DEBUG = False)\n",
    "\n",
    "# 計算結果の出力\n",
    "print(resultJson_ventilation[\"E_ventilation\"])\n",
    "print(resultJson_ventilation[\"Es_ventilation\"])\n",
    "print(resultJson_ventilation[\"BEI_V\"])"
   ]
  },
  {
   "cell_type": "markdown",
   "metadata": {},
   "source": [
    "## 3.照明設備の計算"
   ]
  },
  {
   "cell_type": "code",
   "execution_count": null,
   "metadata": {
    "tags": []
   },
   "outputs": [],
   "source": [
    "# 計算実行\n",
    "resultJson_lighting = lighting.calc_energy(inputdata, DEBUG = False)\n",
    "\n",
    "# 計算結果の出力\n",
    "print(resultJson_lighting[\"E_lighting\"])\n",
    "print(resultJson_lighting[\"Es_lighting\"])\n",
    "print(resultJson_lighting[\"BEI_L\"])"
   ]
  },
  {
   "cell_type": "markdown",
   "metadata": {},
   "source": [
    "## 4. 給湯設備の計算"
   ]
  },
  {
   "cell_type": "code",
   "execution_count": null,
   "metadata": {
    "tags": []
   },
   "outputs": [],
   "source": [
    "# 計算実行\n",
    "resultJson_hotwater = hotwatersupply.calc_energy(inputdata, DEBUG = False)\n",
    "\n",
    "# 計算結果の出力\n",
    "print(resultJson_hotwater[\"E_hotwatersupply\"])"
   ]
  },
  {
   "cell_type": "markdown",
   "metadata": {},
   "source": [
    "## 5. 昇降機の計算"
   ]
  },
  {
   "cell_type": "code",
   "execution_count": null,
   "metadata": {
    "tags": []
   },
   "outputs": [],
   "source": [
    "# 計算実行\n",
    "resultJson_elevetor = elevetor.calc_energy(inputdata, DEBUG = False)\n",
    "\n",
    "# 計算結果の出力\n",
    "print(resultJson_elevetor[\"E_elevetor\"])"
   ]
  },
  {
   "cell_type": "markdown",
   "metadata": {},
   "source": [
    "## 6. 日よけ効果係数の計算"
   ]
  },
  {
   "cell_type": "code",
   "execution_count": null,
   "metadata": {
    "tags": []
   },
   "outputs": [],
   "source": [
    "AREA = \"6\"\n",
    "Direction = \"南\"\n",
    "x1=0\n",
    "x2=5\n",
    "x3=0\n",
    "y1=0\n",
    "y2=2\n",
    "y3=0\n",
    "zxp=2\n",
    "zxm=2\n",
    "zyp=2\n",
    "zym=0\n",
    "\n",
    "# 計算実行\n",
    "r_wind_SUM, r_wind_WIN = shading.calc_shadingCoefficient(AREA, Direction, x1,x2,x3,y1,y2,y3,zxp,zxm,zyp,zym)\n",
    "\n",
    "# 計算結果の出力\n",
    "print(\"日よけ効果係数（冷房）：\" + str(r_wind_SUM))\n",
    "print(\"日よけ効果係数（暖房）：\" + str(r_wind_WIN))"
   ]
  }
 ]
}