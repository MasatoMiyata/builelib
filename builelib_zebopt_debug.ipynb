{
 "cells": [
  {
   "cell_type": "code",
   "execution_count": 20,
   "metadata": {},
   "outputs": [],
   "source": [
    "import json\n",
    "import numpy as np\n",
    "import os\n",
    "import zipfile\n",
    "import math\n",
    "\n",
    "from builelib.make_inputdata import (\n",
    "    make_jsondata_from_Ver2_sheet,\n",
    "    make_jsondata_from_Ver4_sheet,\n",
    ")\n",
    "from builelib import (\n",
    "    airconditioning_webpro,\n",
    "    ventilation,\n",
    "    lighting,\n",
    "    hotwatersupply,\n",
    "    elevator,\n",
    "    photovoltaic,\n",
    "    other_energy,\n",
    "    cogeneration,\n",
    ")\n",
    "\n",
    "# json.dump用のクラスは今は省いている\n",
    "inputfile_name = \"./sample/WEBPRO_inputSheet_sample.xlsm\"  # 入力ファイル指定\n",
    "inputdata, validation = make_jsondata_from_Ver2_sheet(inputfile_name)"
   ]
  },
  {
   "cell_type": "code",
   "execution_count": 21,
   "metadata": {},
   "outputs": [],
   "source": [
    "\n",
    "# データ定義セクション\n",
    "calc_reuslt = {\n",
    "    \"設計一次エネルギー消費量[MJ]\": 0,\n",
    "    \"基準一次エネルギー消費量[MJ]\": 0,\n",
    "    \"設計一次エネルギー消費量（その他除き）[MJ]\": 0,\n",
    "    \"基準一次エネルギー消費量（その他除き）[MJ]\": 0,\n",
    "    \"BEI\": \"\",\n",
    "    \"設計一次エネルギー消費量（再エネ、その他除き）[MJ]\": 0,\n",
    "    \"BEI（再エネ除き）\": \"\",\n",
    "    \"設計一次エネルギー消費量（空調）[MJ]\": 0,\n",
    "    \"基準一次エネルギー消費量（空調）[MJ]\": 0,\n",
    "    \"BEI_AC\": \"-\",  # BEI（空調）\n",
    "    \"設計一次エネルギー消費量（換気）[MJ]\": 0,\n",
    "    \"基準一次エネルギー消費量（換気）[MJ]\": 0,\n",
    "    \"BEI_V\": \"-\",  # BEI（換気）\n",
    "    \"設計一次エネルギー消費量（照明）[MJ]\": 0,\n",
    "    \"基準一次エネルギー消費量（照明）[MJ]\": 0,\n",
    "    \"BEI_L\": \"-\",  # BEI（照明）\n",
    "    \"設計一次エネルギー消費量（給湯）[MJ]\": 0,\n",
    "    \"基準一次エネルギー消費量（給湯）[MJ]\": 0,\n",
    "    \"BEI_HW\": \"-\",  # BEI（給湯）\n",
    "    \"設計一次エネルギー消費量（昇降機）[MJ]\": 0,\n",
    "    \"基準一次エネルギー消費量（昇降機）[MJ]\": 0,\n",
    "    \"BEI_EV\": \"-\",  # BEI（昇降機）\n",
    "    \"その他一次エネルギー消費量[MJ]\": 0,\n",
    "    \"創エネルギー量（太陽光）[MJ]\": 0,\n",
    "    \"創エネルギー量（コジェネ）[MJ]\": 0,\n",
    "}\n",
    "\n",
    "# CGSの計算に必要となる変数\n",
    "resultJson_for_CGS = {\n",
    "    \"AC\": {},\n",
    "    \"V\": {},\n",
    "    \"L\": {},\n",
    "    \"HW\": {},\n",
    "    \"EV\": {},\n",
    "    \"PV\": {},\n",
    "    \"OT\": {},\n",
    "}\n",
    "\n",
    "# 設計一次エネルギー消費量[MJ]\n",
    "energy_consumption_design = 0\n",
    "# 基準一次エネルギー消費量[MJ]\n",
    "energy_consumption_standard = 0\n",
    "\n",
    "# 結果いれるリスト\n",
    "resultdata_AC = {}\n",
    "resultdata_V = {}\n"
   ]
  },
  {
   "cell_type": "code",
   "execution_count": 22,
   "metadata": {},
   "outputs": [
    {
     "name": "stdout",
     "output_type": "stream",
     "text": [
      "室負荷計算完了\n",
      "空調負荷計算完了\n",
      "空調機群のエネルギー消費量計算完了\n",
      "ポンプ負荷計算完了\n",
      "二次ポンプ群のエネルギー消費量計算完了\n",
      "熱源負荷計算完了\n",
      "熱源エネルギー計算完了\n"
     ]
    }
   ],
   "source": [
    "# AC計算セクション\n",
    "resultdata_AC = airconditioning_webpro.calc_energy(inputdata, debug = False)\n",
    "\n",
    "# CGSの計算に必要となる変数\n",
    "resultJson_for_CGS[\"AC\"] = resultdata_AC[\"for_CGS\"]\n",
    "\n",
    "# 設計一次エネ・基準一次エネに追加\n",
    "energy_consumption_design += resultdata_AC[\"設計一次エネルギー消費量[MJ/年]\"]\n",
    "energy_consumption_standard += resultdata_AC[\"基準一次エネルギー消費量[MJ/年]\"]\n",
    "calc_reuslt[\"設計一次エネルギー消費量（空調）[MJ]\"] = resultdata_AC[\n",
    "    \"設計一次エネルギー消費量[MJ/年]\"\n",
    "]\n",
    "calc_reuslt[\"基準一次エネルギー消費量（空調）[MJ]\"] = resultdata_AC[\n",
    "    \"基準一次エネルギー消費量[MJ/年]\"\n",
    "]"
   ]
  },
  {
   "cell_type": "code",
   "execution_count": 23,
   "metadata": {},
   "outputs": [],
   "source": [
    "# 機械換気計算セクション---------------------------------------------------------\n",
    "resultdata_V = ventilation.calc_energy(inputdata, DEBUG = False)\n",
    "# CGSの計算に必要となる変数\n",
    "resultJson_for_CGS[\"V\"] = resultdata_V[\"for_CGS\"]\n",
    "# 設計一次エネ・基準一次エネに追加\n",
    "energy_consumption_design += resultdata_V[\"設計一次エネルギー消費量[MJ/年]\"]\n",
    "energy_consumption_standard += resultdata_V[\"基準一次エネルギー消費量[MJ/年]\"]\n",
    "calc_reuslt[\"設計一次エネルギー消費量（換気）[MJ]\"] = resultdata_V[\"設計一次エネルギー消費量[MJ/年]\"]\n",
    "calc_reuslt[\"基準一次エネルギー消費量（換気）[MJ]\"] = resultdata_V[\"基準一次エネルギー消費量[MJ/年]\"]\n",
    "calc_reuslt[\"BEI_V\"] = math.ceil(resultdata_V[\"BEI/V\"] * 100) / 100"
   ]
  }
 ],
 "metadata": {
  "kernelspec": {
   "display_name": "Python 3",
   "language": "python",
   "name": "python3"
  },
  "language_info": {
   "codemirror_mode": {
    "name": "ipython",
    "version": 3
   },
   "file_extension": ".py",
   "mimetype": "text/x-python",
   "name": "python",
   "nbconvert_exporter": "python",
   "pygments_lexer": "ipython3",
   "version": "3.10.2"
  }
 },
 "nbformat": 4,
 "nbformat_minor": 2
}
